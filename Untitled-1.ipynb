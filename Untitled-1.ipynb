{
 "cells": [
  {
   "cell_type": "code",
   "execution_count": 13,
   "metadata": {},
   "outputs": [],
   "source": [
    "import os"
   ]
  },
  {
   "cell_type": "markdown",
   "metadata": {},
   "source": [
    "This part is for grapevine\n",
    " "
   ]
  },
  {
   "cell_type": "code",
   "execution_count": 24,
   "metadata": {},
   "outputs": [],
   "source": [
    "dir_name = os.path.join('ijcai','group_grapevine')\n",
    "goal_list = [\n",
    "    \"$\\\\cb_{\\\\group} sct_a = t$\",\n",
    "    \"$\\\\eb_{\\\\group} sct_a = t \\\\land \\\\cb_{\\\\group} sct_a = t \\\\rightarrow \\\\unknown$\",\n",
    "    \"$\\\\eb_{\\\\group} \\\\eb_{\\\\group} sct_a = t \\\\land \\\\cb_{\\\\group} sct_a = t \\\\rightarrow \\\\unknown$\",\n",
    "    \"$B_b \\\\cb_{\\\\group} sct_a = f \\\\land \\\\cb_{\\\\{a,c,d\\\\}} sct_a = t$\",\n",
    "    \"$\\\\cb_{\\\\{b,c\\\\}} \\\\cb_{\\\\group} sct_a = f \\\\land \\\\cb_{\\\\{a,d\\\\}} sct_a = t$\",\n",
    "    \"$\\\\db_{\\\\group} \\\\eb_{\\\\group} sct_a = t \\\\land \\\\cb_{\\\\group} sct_a = t \\\\rightarrow \\\\unknown$\",\n",
    "    \"$\\\\db_{\\\\group} \\\\eb_{\\\\group} sct_a = t \\\\land B_a \\\\eb_{\\\\group} sct_a = t \\\\rightarrow \\\\unknown$\",\n",
    "    ]\n",
    "\n"
   ]
  },
  {
   "cell_type": "markdown",
   "metadata": {},
   "source": [
    "The Following part is for number:"
   ]
  },
  {
   "cell_type": "code",
   "execution_count": 22,
   "metadata": {},
   "outputs": [],
   "source": [
    "dir_name = os.path.join(\"ijcai\",\"group_num\")\n",
    "goal_list = [\n",
    "    \"$\\\\eb_{\\\\{a,b\\\\}} n<2$\",\n",
    "    \"$\\\\db_{\\\\{a,b\\\\}} n<2$\",\n",
    "    \"$\\\\cb_{\\\\{a,b\\\\}} n<2$\",\n",
    "    \"$\\\\eb_{\\\\{a,b\\\\}} n<2 \\\\land \\\\neg \\\\cb_{\\\\{a,b\\\\}} n<2 $\",\n",
    "    \"$\\\\eb_{\\\\{a,b\\\\}} \\\\eb_{\\\\{a,b\\\\}} n<2 \\\\land \\\\neg \\\\cb_{\\\\{a,b\\\\}} n<2 $\",\n",
    "    \"$\\\\neg \\\\eb_{\\\\{a,b\\\\}} n=1 \\\\land \\\\neg \\\\eb_{\\\\{a,b\\\\}} n=2 \\\\land \\\\cb_{\\\\{a,b\\\\}} n<2$\",\n",
    "    \"$B_a \\\\cb_{\\\\{a,b\\\\}} n=2 \\\\land B_b \\\\cb_{\\\\{a,b\\\\}} n=1$\"]\n",
    "\n",
    "\n",
    "\n",
    "\n"
   ]
  },
  {
   "cell_type": "markdown",
   "metadata": {},
   "source": [
    "The following is for bbl"
   ]
  },
  {
   "cell_type": "code",
   "execution_count": 26,
   "metadata": {},
   "outputs": [],
   "source": [
    "dir_name = os.path.join(\"ijcai\",\"group_bbl\")\n",
    "goal_list = [\n",
    "    \"$\\\\cb_{\\\\group} o_2 = 2$\",\n",
    "    \"$\\\\eb_{\\\\group} o_2 = 2 \\\\land \\\\cb_{\\\\group} o_2 = 2  \\\\rightarrow \\\\unknown$\",\n",
    "    \"$\\\\cb_{\\\\group} o_1 = 1$\",\n",
    "    \"$\\\\cb_{\\\\group} (o_1 = 1 \\\\land o_2 = 2)$ \",\n",
    "    \"$\\\\eb_{\\\\group} (o_1 = 1 \\\\land o_2 = 2 \\\\land o_3 = 3)$\",\n",
    "    \"$\\\\eb_{\\\\group} o_1 < o_2$\",\n",
    "    \"$\\\\db_{\\\\group} o_1 < o_2$\"\n",
    "\n",
    "]"
   ]
  },
  {
   "cell_type": "code",
   "execution_count": 27,
   "metadata": {},
   "outputs": [
    {
     "name": "stdout",
     "output_type": "stream",
     "text": [
      "7\n",
      "0\n",
      "7\n",
      "1\n",
      "7\n",
      "2\n",
      "7\n",
      "3\n",
      "7\n",
      "4\n",
      "7\n",
      "5\n",
      "7\n",
      "6\n",
      "[{'solvable': True, 'plan': '$\\\\cb_{\\\\group} o_2 = 2$ \\\\\\\\ % -,turn_clockwise-b', 'pruned': 0, 'pruned_by_unknown': 0, 'pruned_by_visited': 0, 'goal_checked': 8, 'expanded': 2, 'generated': 8, 'epistemic_calls': 11, 'epistemic_call_time': '0.103', 'epistemic_call_time_avg': '9.387', 'common_calls': 9, 'common_total': 28, 'common_max': 4, 'common_average': '3.111', 'domain_name': 'bbl', 'problem': 'group_bbl_01', 'search': 'fbfsdc', 'init_time': '0.082', 'search_time': '0.107', 'plan_length': 1}, {'solvable': True, 'plan': '$\\\\eb_{\\\\group} o_2 = 2 \\\\land \\\\cb_{\\\\group} o_2 = 2  \\\\rightarrow \\\\unknown$ \\\\\\\\ % -,turn_clockwise-a,turn_clockwise-b', 'pruned': 1, 'pruned_by_unknown': 1, 'pruned_by_visited': 0, 'goal_checked': 20, 'expanded': 5, 'generated': 19, 'epistemic_calls': 26, 'epistemic_call_time': '0.276', 'epistemic_call_time_avg': '10.617', 'common_calls': 21, 'common_total': 66, 'common_max': 4, 'common_average': '3.143', 'domain_name': 'bbl', 'problem': 'group_bbl_02', 'search': 'fbfsdc', 'init_time': '0.001', 'search_time': '0.279', 'plan_length': 2}, {'solvable': True, 'plan': '$\\\\cb_{\\\\group} o_1 = 1$ \\\\\\\\ % -,turn_clockwise-b,turn_clockwise-b,turn_clockwise-b,turn_clockwise-b,turn_clockwise-b', 'pruned': 125, 'pruned_by_unknown': 0, 'pruned_by_visited': 125, 'goal_checked': 708, 'expanded': 177, 'generated': 708, 'epistemic_calls': 1011, 'epistemic_call_time': '21.963', 'epistemic_call_time_avg': '21.724', 'common_calls': 709, 'common_total': 2476, 'common_max': 4, 'common_average': '3.492', 'domain_name': 'bbl', 'problem': 'group_bbl_03', 'search': 'fbfsdc', 'init_time': '0.001', 'search_time': '22.072', 'plan_length': 5}, {'solvable': True, 'plan': '$\\\\cb_{\\\\group} (o_1 = 1 \\\\land o_2 = 2)$  \\\\\\\\ % -,turn_clockwise-b,turn_clockwise-b,turn_clockwise-b,turn_clockwise-b,turn_clockwise-b', 'pruned': 121, 'pruned_by_unknown': 0, 'pruned_by_visited': 121, 'goal_checked': 756, 'expanded': 189, 'generated': 756, 'epistemic_calls': 1067, 'epistemic_call_time': '45.725', 'epistemic_call_time_avg': '42.853', 'common_calls': 1514, 'common_total': 5276, 'common_max': 4, 'common_average': '3.485', 'domain_name': 'bbl', 'problem': 'group_bbl_04', 'search': 'fbfsdc', 'init_time': '0.001', 'search_time': '45.841', 'plan_length': 5}, {'solvable': True, 'plan': '$\\\\eb_{\\\\group} (o_1 = 1 \\\\land o_2 = 2 \\\\land o_3 = 3)$ \\\\\\\\ % -,turn_clockwise-a,turn_clockwise-a,turn_clockwise-a,turn_clockwise-a,turn_clockwise-b,turn_clockwise-b,turn_clockwise-b,turn_clockwise-b,turn_clockwise-b', 'pruned': 2319, 'pruned_by_unknown': 0, 'pruned_by_visited': 2319, 'goal_checked': 6380, 'expanded': 1595, 'generated': 6380, 'epistemic_calls': 10295, 'epistemic_call_time': '4.998', 'epistemic_call_time_avg': '0.486', 'common_calls': 0, 'common_total': 0, 'common_max': 0, 'common_average': 0, 'domain_name': 'bbl', 'problem': 'group_bbl_05', 'search': 'fbfsdc', 'init_time': '0.001', 'search_time': '6.05', 'plan_length': 9}, {'solvable': True, 'plan': '$\\\\eb_{\\\\group} o_1 < o_2$ \\\\\\\\ % -,turn_clockwise-a,turn_clockwise-a,turn_clockwise-a,turn_clockwise-a,turn_clockwise-b,turn_clockwise-b,turn_clockwise-b,turn_clockwise-b,turn_clockwise-b', 'pruned': 2319, 'pruned_by_unknown': 0, 'pruned_by_visited': 2319, 'goal_checked': 6380, 'expanded': 1595, 'generated': 6380, 'epistemic_calls': 10295, 'epistemic_call_time': '4.012', 'epistemic_call_time_avg': '0.39', 'common_calls': 0, 'common_total': 0, 'common_max': 0, 'common_average': 0, 'domain_name': 'bbl', 'problem': 'group_bbl_06', 'search': 'fbfsdc', 'init_time': '0.001', 'search_time': '5.007', 'plan_length': 9}, {'solvable': True, 'plan': '$\\\\db_{\\\\group} o_1 < o_2$ \\\\\\\\ % -,turn_clockwise-b', 'pruned': 0, 'pruned_by_unknown': 0, 'pruned_by_visited': 0, 'goal_checked': 8, 'expanded': 2, 'generated': 8, 'epistemic_calls': 11, 'epistemic_call_time': '0.007', 'epistemic_call_time_avg': '0.663', 'common_calls': 0, 'common_total': 0, 'common_max': 0, 'common_average': 0, 'domain_name': 'bbl', 'problem': 'group_bbl_07', 'search': 'fbfsdc', 'init_time': '0.001', 'search_time': '0.009', 'plan_length': 1}]\n",
      "['solvable' 'plan' 'pruned' 'pruned_by_unknown' 'pruned_by_visited'\n",
      " 'goal_checked' 'expanded' 'generated' 'epistemic_calls'\n",
      " 'epistemic_call_time' 'epistemic_call_time_avg' 'common_calls'\n",
      " 'common_total' 'common_max' 'common_average' 'domain_name' 'problem'\n",
      " 'search' 'init_time' 'search_time' 'plan_length']\n",
      "   expanded  generated  common_max common_average  epistemic_calls  \\\n",
      "0         2          8           4          3.111               11   \n",
      "1         5         19           4          3.143               26   \n",
      "2       177        708           4          3.492             1011   \n",
      "3       189        756           4          3.485             1067   \n",
      "4      1595       6380           0              0            10295   \n",
      "5      1595       6380           0              0            10295   \n",
      "6         2          8           0              0               11   \n",
      "\n",
      "  epistemic_call_time_avg search_time  plan_length  \\\n",
      "0                   9.387       0.107            1   \n",
      "1                  10.617       0.279            2   \n",
      "2                  21.724      22.072            5   \n",
      "3                  42.853      45.841            5   \n",
      "4                   0.486        6.05            9   \n",
      "5                    0.39       5.007            9   \n",
      "6                   0.663       0.009            1   \n",
      "\n",
      "                                                                                                                                                                                                                   plan  \n",
      "0                                                                                                                                                                        $\\cb_{\\group} o_2 = 2$ \\\\ % -,turn_clockwise-b  \n",
      "1                                                                                                      $\\eb_{\\group} o_2 = 2 \\land \\cb_{\\group} o_2 = 2  \\rightarrow \\unknown$ \\\\ % -,turn_clockwise-a,turn_clockwise-b  \n",
      "2                                                                                                    $\\cb_{\\group} o_1 = 1$ \\\\ % -,turn_clockwise-b,turn_clockwise-b,turn_clockwise-b,turn_clockwise-b,turn_clockwise-b  \n",
      "3                                                                                   $\\cb_{\\group} (o_1 = 1 \\land o_2 = 2)$  \\\\ % -,turn_clockwise-b,turn_clockwise-b,turn_clockwise-b,turn_clockwise-b,turn_clockwise-b  \n",
      "4  $\\eb_{\\group} (o_1 = 1 \\land o_2 = 2 \\land o_3 = 3)$ \\\\ % -,turn_clockwise-a,turn_clockwise-a,turn_clockwise-a,turn_clockwise-a,turn_clockwise-b,turn_clockwise-b,turn_clockwise-b,turn_clockwise-b,turn_clockwise-b  \n",
      "5                              $\\eb_{\\group} o_1 < o_2$ \\\\ % -,turn_clockwise-a,turn_clockwise-a,turn_clockwise-a,turn_clockwise-a,turn_clockwise-b,turn_clockwise-b,turn_clockwise-b,turn_clockwise-b,turn_clockwise-b  \n",
      "6                                                                                                                                                                      $\\db_{\\group} o_1 < o_2$ \\\\ % -,turn_clockwise-b  \n"
     ]
    }
   ],
   "source": [
    "\n",
    "import os\n",
    "import pandas\n",
    "import json\n",
    "from util import ActionList2DictKey\n",
    "\n",
    "\n",
    "plan_str_prefix_list= [ goal_str + \" \\\\\\\\ % \" for goal_str in goal_list]\n",
    "\n",
    "\n",
    "result_json = list()\n",
    "\n",
    "\n",
    "# dir_name = os.path.join(\"amass_result\",\"grapevine\")\n",
    "path_list= os.listdir(dir_name)\n",
    "index = 0\n",
    "for file_name in sorted(path_list):\n",
    "    if '.json' in file_name:\n",
    "        with open(os.path.join(dir_name,file_name),'r') as f:\n",
    "            json_item = json.load(f)\n",
    "            # print(json_item)\n",
    "            \n",
    "            for key,value in json_item.items():\n",
    "                if type(value) == float:\n",
    "                    if key == 'common_average':\n",
    "                        json_item[key] = str(round(value,1))\n",
    "                    if key == 'epistemic_call_time_avg':\n",
    "                        json_item[key] = str(round(value*1000,3))\n",
    "                    else:\n",
    "                        json_item[key] = str(round(value,3))\n",
    "                    \n",
    "            \n",
    "            if \"plan\" in json_item.keys():\n",
    "                plan = json_item['plan']\n",
    "                json_item.update({\"plan_length\":len(plan)})\n",
    "                print(len(plan_str_prefix_list))\n",
    "                print(index)\n",
    "                plan_str = plan_str_prefix_list[index] + ActionList2DictKey(plan)\n",
    "                json_item.update({\"plan\":plan_str})\n",
    "                index+=1\n",
    "            # search_str = json_item[\"search\"] \n",
    "\n",
    "            result_json.append(json_item)\n",
    "        \n",
    "print(result_json)\n",
    "\n",
    "\n",
    "\n",
    "\n",
    "\n",
    "df_json = pandas.DataFrame.from_dict(result_json)\n",
    "# print(df_json)\n",
    "# new_df=df_json.drop(columns=['solvable', 'domain_name','search','pruned','pruned_by_unknown','pruned_by_visited','problem','goal_checked'])\n",
    "cols = df_json.columns.values\n",
    "print(cols)\n",
    "cols = ['expanded' ,'generated','common_max','common_average' ,'epistemic_calls', 'epistemic_call_time_avg', 'search_time', 'plan_length','plan']\n",
    "# cols = list(new_df.columns.values)[1:]+['plan']\n",
    "new_df = df_json[cols]\n",
    "pandas.set_option('display.max_colwidth', 1000)\n",
    "print(new_df)\n",
    "\n",
    "latex_df = new_df.to_latex(escape=False)\n",
    "# print(latex_df)\n",
    "\n",
    "with open(os.path.join(dir_name,\"table.latex\"),'w') as f:\n",
    "    f.write(latex_df)\n",
    "    \n"
   ]
  }
 ],
 "metadata": {
  "kernelspec": {
   "display_name": "Python 3",
   "language": "python",
   "name": "python3"
  },
  "language_info": {
   "codemirror_mode": {
    "name": "ipython",
    "version": 3
   },
   "file_extension": ".py",
   "mimetype": "text/x-python",
   "name": "python",
   "nbconvert_exporter": "python",
   "pygments_lexer": "ipython3",
   "version": "3.8.10"
  },
  "orig_nbformat": 4,
  "vscode": {
   "interpreter": {
    "hash": "be20a142c3a3c1fec0f2a3fd728a43c6f1e3462a51ebeb0c006ecb4e4d65288e"
   }
  }
 },
 "nbformat": 4,
 "nbformat_minor": 2
}
